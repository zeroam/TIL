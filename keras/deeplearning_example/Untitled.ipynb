{
 "cells": [
  {
   "cell_type": "code",
   "execution_count": 2,
   "metadata": {},
   "outputs": [
    {
     "name": "stderr",
     "output_type": "stream",
     "text": [
      "WARNING: Logging before flag parsing goes to stderr.\n",
      "W0703 14:50:29.701957 11388 deprecation_wrapper.py:119] From c:\\users\\imdff\\.virtualenvs\\keras-t0ydauat\\lib\\site-packages\\keras\\backend\\tensorflow_backend.py:74: The name tf.get_default_graph is deprecated. Please use tf.compat.v1.get_default_graph instead.\n",
      "\n",
      "W0703 14:50:29.723963 11388 deprecation_wrapper.py:119] From c:\\users\\imdff\\.virtualenvs\\keras-t0ydauat\\lib\\site-packages\\keras\\backend\\tensorflow_backend.py:517: The name tf.placeholder is deprecated. Please use tf.compat.v1.placeholder instead.\n",
      "\n",
      "W0703 14:50:29.727956 11388 deprecation_wrapper.py:119] From c:\\users\\imdff\\.virtualenvs\\keras-t0ydauat\\lib\\site-packages\\keras\\backend\\tensorflow_backend.py:4138: The name tf.random_uniform is deprecated. Please use tf.random.uniform instead.\n",
      "\n"
     ]
    }
   ],
   "source": [
    "from keras.models import Sequential\n",
    "from keras.layers import Dense, Activation\n",
    "\n",
    "model = Sequential()\n",
    "model.add(Dense(64, activation='relu', input_dim=50)) # input shape of 50\n",
    "model.add(Dense(28, activation='relu'))\n",
    "model.add(Dense(10, activation='softmax'))"
   ]
  },
  {
   "cell_type": "markdown",
   "metadata": {},
   "source": [
    "## Keras Fundamentals for Deep Learning"
   ]
  },
  {
   "cell_type": "code",
   "execution_count": 3,
   "metadata": {},
   "outputs": [
    {
     "name": "stderr",
     "output_type": "stream",
     "text": [
      "W0703 14:57:46.838963 11388 deprecation_wrapper.py:119] From c:\\users\\imdff\\.virtualenvs\\keras-t0ydauat\\lib\\site-packages\\keras\\backend\\tensorflow_backend.py:3976: The name tf.nn.max_pool is deprecated. Please use tf.nn.max_pool2d instead.\n",
      "\n",
      "W0703 14:57:46.865962 11388 deprecation_wrapper.py:119] From c:\\users\\imdff\\.virtualenvs\\keras-t0ydauat\\lib\\site-packages\\keras\\backend\\tensorflow_backend.py:133: The name tf.placeholder_with_default is deprecated. Please use tf.compat.v1.placeholder_with_default instead.\n",
      "\n",
      "W0703 14:57:46.873963 11388 deprecation.py:506] From c:\\users\\imdff\\.virtualenvs\\keras-t0ydauat\\lib\\site-packages\\keras\\backend\\tensorflow_backend.py:3445: calling dropout (from tensorflow.python.ops.nn_ops) with keep_prob is deprecated and will be removed in a future version.\n",
      "Instructions for updating:\n",
      "Please use `rate` instead of `keep_prob`. Rate should be set to `rate = 1 - keep_prob`.\n",
      "W0703 14:57:46.889963 11388 deprecation_wrapper.py:119] From c:\\users\\imdff\\.virtualenvs\\keras-t0ydauat\\lib\\site-packages\\keras\\optimizers.py:790: The name tf.train.Optimizer is deprecated. Please use tf.compat.v1.train.Optimizer instead.\n",
      "\n"
     ]
    },
    {
     "ename": "NameError",
     "evalue": "name 'X_train' is not defined",
     "output_type": "error",
     "traceback": [
      "\u001b[1;31m---------------------------------------------------------------------------\u001b[0m",
      "\u001b[1;31mNameError\u001b[0m                                 Traceback (most recent call last)",
      "\u001b[1;32m<ipython-input-3-754b89169cc9>\u001b[0m in \u001b[0;36m<module>\u001b[1;34m\u001b[0m\n\u001b[0;32m     22\u001b[0m \u001b[0mmodel\u001b[0m\u001b[1;33m.\u001b[0m\u001b[0mcompile\u001b[0m\u001b[1;33m(\u001b[0m\u001b[0mloss\u001b[0m\u001b[1;33m=\u001b[0m\u001b[1;34m'mean_squared_error'\u001b[0m\u001b[1;33m,\u001b[0m \u001b[0moptimizer\u001b[0m\u001b[1;33m=\u001b[0m\u001b[1;34m'adam'\u001b[0m\u001b[1;33m)\u001b[0m\u001b[1;33m\u001b[0m\u001b[1;33m\u001b[0m\u001b[0m\n\u001b[0;32m     23\u001b[0m \u001b[1;33m\u001b[0m\u001b[0m\n\u001b[1;32m---> 24\u001b[1;33m \u001b[0mmodel\u001b[0m\u001b[1;33m.\u001b[0m\u001b[0mfit\u001b[0m\u001b[1;33m(\u001b[0m\u001b[0mX_train\u001b[0m\u001b[1;33m,\u001b[0m \u001b[0mY_train\u001b[0m\u001b[1;33m,\u001b[0m \u001b[0mbatch_size\u001b[0m\u001b[1;33m=\u001b[0m\u001b[1;36m32\u001b[0m\u001b[1;33m,\u001b[0m \u001b[0mepoch\u001b[0m\u001b[1;33m=\u001b[0m\u001b[1;36m10\u001b[0m\u001b[1;33m,\u001b[0m \u001b[0mvalidation_data\u001b[0m\u001b[1;33m=\u001b[0m\u001b[1;33m(\u001b[0m\u001b[0mx_val\u001b[0m\u001b[1;33m,\u001b[0m \u001b[0my_val\u001b[0m\u001b[1;33m)\u001b[0m\u001b[1;33m)\u001b[0m\u001b[1;33m\u001b[0m\u001b[1;33m\u001b[0m\u001b[0m\n\u001b[0m\u001b[0;32m     25\u001b[0m \u001b[1;33m\u001b[0m\u001b[0m\n\u001b[0;32m     26\u001b[0m \u001b[0mscore\u001b[0m \u001b[1;33m=\u001b[0m \u001b[0mmodel\u001b[0m\u001b[1;33m.\u001b[0m\u001b[0mevaluate\u001b[0m\u001b[1;33m(\u001b[0m\u001b[0mx_test\u001b[0m\u001b[1;33m,\u001b[0m \u001b[0my_test\u001b[0m\u001b[1;33m,\u001b[0m \u001b[0mbatch_size\u001b[0m\u001b[1;33m=\u001b[0m\u001b[1;36m32\u001b[0m\u001b[1;33m)\u001b[0m\u001b[1;33m\u001b[0m\u001b[1;33m\u001b[0m\u001b[0m\n",
      "\u001b[1;31mNameError\u001b[0m: name 'X_train' is not defined"
     ]
    }
   ],
   "source": [
    "## 1. Sequential Model\n",
    "from keras.models import Sequential\n",
    "from keras.layers import Dense, Activation, Conv2D, MaxPooling2D, Flatten, Dropout\n",
    "\n",
    "model = Sequential()\n",
    "\n",
    "## 2. Convolutional Layer\n",
    "input_shape = (320, 320, 3)\n",
    "model.add(Conv2D(48, (3, 3), activation='relu', input_shape=input_shape))\n",
    "model.add(Conv2D(48, (3, 3), activation='relu'))\n",
    "          \n",
    "## 3. MaxPooling Layer\n",
    "model.add(MaxPooling2D(pool_size=(2, 2)))\n",
    "\n",
    "## 4. Dense Layer : adding a Fully Connected Layer with just specifying output size\n",
    "model.add(Dense(256, activation='relu'))\n",
    "\n",
    "## 5. Deopout Layer\n",
    "model.add(Dropout(0.5))\n",
    "\n",
    "## Compiling, Training, and Evaluation\n",
    "model.compile(loss='mean_squared_error', optimizer='adam')\n",
    "\n",
    "model.fit(X_train, Y_train, batch_size=32, epoch=10, validation_data=(x_val, y_val))\n",
    "\n",
    "score = model.evaluate(x_test, y_test, batch_size=32)"
   ]
  },
  {
   "cell_type": "markdown",
   "metadata": {},
   "source": [
    "## Let's try using simple linear regression"
   ]
  },
  {
   "cell_type": "code",
   "execution_count": 7,
   "metadata": {},
   "outputs": [
    {
     "name": "stdout",
     "output_type": "stream",
     "text": [
      "Linear regression model is initialized with weights w: -1.14, b: 0.00\n",
      "Epoch 1/30\n",
      "200/200 [==============================] - 0s 1ms/step - loss: 1.9941 - mean_squared_error: 1.9941\n",
      "Epoch 2/30\n",
      "200/200 [==============================] - 0s 700us/step - loss: 0.2164 - mean_squared_error: 0.2164\n",
      "Epoch 3/30\n",
      "200/200 [==============================] - 0s 695us/step - loss: 0.2068 - mean_squared_error: 0.2068\n",
      "Epoch 4/30\n",
      "200/200 [==============================] - 0s 690us/step - loss: 0.1980 - mean_squared_error: 0.1980\n",
      "Epoch 5/30\n",
      "200/200 [==============================] - 0s 705us/step - loss: 0.1899 - mean_squared_error: 0.1899\n",
      "Epoch 6/30\n",
      "200/200 [==============================] - 0s 715us/step - loss: 0.1824 - mean_squared_error: 0.1824\n",
      "Epoch 7/30\n",
      "200/200 [==============================] - 0s 720us/step - loss: 0.1756 - mean_squared_error: 0.1756\n",
      "Epoch 8/30\n",
      "200/200 [==============================] - 0s 708us/step - loss: 0.1693 - mean_squared_error: 0.1693\n",
      "Epoch 9/30\n",
      "200/200 [==============================] - 0s 690us/step - loss: 0.1635 - mean_squared_error: 0.1635\n",
      "Epoch 10/30\n",
      "200/200 [==============================] - 0s 700us/step - loss: 0.1582 - mean_squared_error: 0.1582\n",
      "Epoch 11/30\n",
      "200/200 [==============================] - 0s 705us/step - loss: 0.1533 - mean_squared_error: 0.1533\n",
      "Epoch 12/30\n",
      "200/200 [==============================] - 0s 710us/step - loss: 0.1489 - mean_squared_error: 0.1489\n",
      "Epoch 13/30\n",
      "200/200 [==============================] - 0s 710us/step - loss: 0.1448 - mean_squared_error: 0.1448\n",
      "Epoch 14/30\n",
      "200/200 [==============================] - 0s 695us/step - loss: 0.1410 - mean_squared_error: 0.1410\n",
      "Epoch 15/30\n",
      "200/200 [==============================] - 0s 710us/step - loss: 0.1375 - mean_squared_error: 0.1375\n",
      "Epoch 16/30\n",
      "200/200 [==============================] - 0s 695us/step - loss: 0.1344 - mean_squared_error: 0.1344\n",
      "Epoch 17/30\n",
      "200/200 [==============================] - 0s 700us/step - loss: 0.1314 - mean_squared_error: 0.1314\n",
      "Epoch 18/30\n",
      "200/200 [==============================] - 0s 700us/step - loss: 0.1288 - mean_squared_error: 0.1288\n",
      "Epoch 19/30\n",
      "200/200 [==============================] - 0s 705us/step - loss: 0.1263 - mean_squared_error: 0.1263\n",
      "Epoch 20/30\n",
      "200/200 [==============================] - 0s 720us/step - loss: 0.1240 - mean_squared_error: 0.1240\n",
      "Epoch 21/30\n",
      "200/200 [==============================] - 0s 723us/step - loss: 0.1220 - mean_squared_error: 0.1220\n",
      "Epoch 22/30\n",
      "200/200 [==============================] - 0s 740us/step - loss: 0.1200 - mean_squared_error: 0.1200\n",
      "Epoch 23/30\n",
      "200/200 [==============================] - 0s 739us/step - loss: 0.1183 - mean_squared_error: 0.1183\n",
      "Epoch 24/30\n",
      "200/200 [==============================] - 0s 708us/step - loss: 0.1167 - mean_squared_error: 0.1167\n",
      "Epoch 25/30\n",
      "200/200 [==============================] - 0s 750us/step - loss: 0.1152 - mean_squared_error: 0.1152\n",
      "Epoch 26/30\n",
      "200/200 [==============================] - 0s 740us/step - loss: 0.1139 - mean_squared_error: 0.1139\n",
      "Epoch 27/30\n",
      "200/200 [==============================] - 0s 710us/step - loss: 0.1126 - mean_squared_error: 0.1126\n",
      "Epoch 28/30\n",
      "200/200 [==============================] - 0s 725us/step - loss: 0.1115 - mean_squared_error: 0.1115\n",
      "Epoch 29/30\n",
      "200/200 [==============================] - 0s 785us/step - loss: 0.1104 - mean_squared_error: 0.1104\n",
      "Epoch 30/30\n",
      "200/200 [==============================] - 0s 725us/step - loss: 0.1095 - mean_squared_error: 0.1095\n",
      "Linear regression model is trained to have weight w: 3.55, b: 0.91\n"
     ]
    },
    {
     "data": {
      "image/png": "[encoded data removed]",
      "text/plain": [
       "<Figure size 864x720 with 1 Axes>"
      ]
     },
     "metadata": {
      "needs_background": "light"
     },
     "output_type": "display_data"
    }
   ],
   "source": [
    "import keras\n",
    "from keras.models import Sequential\n",
    "from keras.layers import Dense, Activation\n",
    "import numpy as np\n",
    "import matplotlib.pyplot as plt\n",
    "\n",
    "x = data = np.linspace(1, 2, 200)\n",
    "y = x * 4 + np.random.randn(*x.shape) * 0.3\n",
    "\n",
    "model = Sequential()\n",
    "model.add(Dense(1, input_dim=1, activation='linear'))\n",
    "\n",
    "model.compile(optimizer='sgd', loss='mse', metrics=['mse'])\n",
    "\n",
    "weights = model.layers[0].get_weights()\n",
    "w_init = weights[0][0][0]\n",
    "b_init = weights[1][0]\n",
    "print('Linear regression model is initialized with weights w: %.2f, b: %.2f' % (w_init, b_init))\n",
    "\n",
    "model.fit(x, y, batch_size=1, epochs=30, shuffle=False)\n",
    "\n",
    "weights = model.layers[0].get_weights()\n",
    "w_final = weights[0][0][0]\n",
    "b_final = weights[1][0]\n",
    "print('Linear regression model is trained to have weight w: %.2f, b: %.2f' % (w_final, b_final))\n",
    "\n",
    "predict = model.predict(data)\n",
    "\n",
    "plt.figure(figsize=(12, 10))\n",
    "plt.plot(data, predict, 'b', data, y, 'k.')\n",
    "plt.show()"
   ]
  },
  {
   "cell_type": "code",
   "execution_count": 8,
   "metadata": {},
   "outputs": [
    {
     "name": "stdout",
     "output_type": "stream",
     "text": [
      "1.14.0\n",
      "2.2.4-tf\n"
     ]
    }
   ],
   "source": [
    "import tensorflow as tf\n",
    "from tensorflow.keras import layers\n",
    "\n",
    "print(tf.VERSION)\n",
    "print(tf.keras.__version__)"
   ]
  },
  {
   "cell_type": "code",
   "execution_count": null,
   "metadata": {},
   "outputs": [],
   "source": []
  }
 ],
 "metadata": {
  "kernelspec": {
   "display_name": "Python 3",
   "language": "python",
   "name": "python3"
  },
  "language_info": {
   "codemirror_mode": {
    "name": "ipython",
    "version": 3
   },
   "file_extension": ".py",
   "mimetype": "text/x-python",
   "name": "python",
   "nbconvert_exporter": "python",
   "pygments_lexer": "ipython3",
   "version": "3.6.8"
  }
 },
 "nbformat": 4,
 "nbformat_minor": 2
}
